{
 "cells": [
  {
   "cell_type": "markdown",
   "metadata": {},
   "source": [
    "<img align=\"left\" src=\"https://lever-client-logos.s3.amazonaws.com/864372b1-534c-480e-acd5-9711f850815c-1524247202159.png\" width=200>\n",
    "<br></br>\n",
    "<br></br>\n",
    "\n",
    "# Natural Language Processing (NLP)\n",
    "## *Data Science Unit 4 Sprint 1 Assignment 1*\n",
    "\n",
    "Your goal in this assignment: find the attributes of the best & worst coffee shops in the dataset. The text is fairly raw: dates in the review, extra words in the `star_rating` column, etc. You'll probably want to clean that stuff up for a better analysis. \n",
    "\n",
    "Analyze the corpus of text using text visualizations of token frequency. Try cleaning the data as much as possible. Try the following techniques: \n",
    "- Lemmatization\n",
    "- Custom stopword removal\n",
    "\n",
    "Keep in mind the attributes of good tokens. Once you have a solid baseline, layer in the star rating in your visualization(s). Key part of this assignment - produce a write-up of the attributes of the best and worst coffee shops. Based on your analysis, what makes the best the best and the worst the worst. Use graphs and numbesr from your analysis to support your conclusions. There should be plenty of markdown cells! :coffee:"
   ]
  },
  {
   "cell_type": "code",
   "execution_count": 1,
   "metadata": {},
   "outputs": [
    {
     "data": {
      "image/jpeg": "[encoded data removed]",
      "text/html": [
       "\n",
       "        <iframe\n",
       "            width=\"400\"\n",
       "            height=\"300\"\n",
       "            src=\"https://www.youtube.com/embed/Jml7NVYm8cs\"\n",
       "            frameborder=\"0\"\n",
       "            allowfullscreen\n",
       "        ></iframe>\n",
       "        "
      ],
      "text/plain": [
       "<IPython.lib.display.YouTubeVideo at 0x22fe79cd7f0>"
      ]
     },
     "execution_count": 1,
     "metadata": {},
     "output_type": "execute_result"
    }
   ],
   "source": [
    "from IPython.display import YouTubeVideo\n",
    "\n",
    "YouTubeVideo('Jml7NVYm8cs')"
   ]
  },
  {
   "cell_type": "code",
   "execution_count": 2,
   "metadata": {},
   "outputs": [
    {
     "data": {
      "text/plain": [
       "'C:\\\\Users\\\\Toby\\\\Desktop\\\\Lambda Files\\\\DS-Unit-4-Sprint-1-NLP\\\\module1-text-data'"
      ]
     },
     "execution_count": 2,
     "metadata": {},
     "output_type": "execute_result"
    }
   ],
   "source": [
    "%pwd"
   ]
  },
  {
   "cell_type": "code",
   "execution_count": 3,
   "metadata": {},
   "outputs": [
    {
     "data": {
      "text/html": [
       "<div>\n",
       "<style scoped>\n",
       "    .dataframe tbody tr th:only-of-type {\n",
       "        vertical-align: middle;\n",
       "    }\n",
       "\n",
       "    .dataframe tbody tr th {\n",
       "        vertical-align: top;\n",
       "    }\n",
       "\n",
       "    .dataframe thead th {\n",
       "        text-align: right;\n",
       "    }\n",
       "</style>\n",
       "<table border=\"1\" class=\"dataframe\">\n",
       "  <thead>\n",
       "    <tr style=\"text-align: right;\">\n",
       "      <th></th>\n",
       "      <th>coffee_shop_name</th>\n",
       "      <th>full_review_text</th>\n",
       "      <th>star_rating</th>\n",
       "    </tr>\n",
       "  </thead>\n",
       "  <tbody>\n",
       "    <tr>\n",
       "      <th>0</th>\n",
       "      <td>The Factory - Cafe With a Soul</td>\n",
       "      <td>11/25/2016 1 check-in Love love loved the atm...</td>\n",
       "      <td>5.0 star rating</td>\n",
       "    </tr>\n",
       "    <tr>\n",
       "      <th>1</th>\n",
       "      <td>The Factory - Cafe With a Soul</td>\n",
       "      <td>12/2/2016 Listed in Date Night: Austin, Ambia...</td>\n",
       "      <td>4.0 star rating</td>\n",
       "    </tr>\n",
       "    <tr>\n",
       "      <th>2</th>\n",
       "      <td>The Factory - Cafe With a Soul</td>\n",
       "      <td>11/30/2016 1 check-in Listed in Brunch Spots ...</td>\n",
       "      <td>4.0 star rating</td>\n",
       "    </tr>\n",
       "    <tr>\n",
       "      <th>3</th>\n",
       "      <td>The Factory - Cafe With a Soul</td>\n",
       "      <td>11/25/2016 Very cool decor! Good drinks Nice ...</td>\n",
       "      <td>2.0 star rating</td>\n",
       "    </tr>\n",
       "    <tr>\n",
       "      <th>4</th>\n",
       "      <td>The Factory - Cafe With a Soul</td>\n",
       "      <td>12/3/2016 1 check-in They are located within ...</td>\n",
       "      <td>4.0 star rating</td>\n",
       "    </tr>\n",
       "  </tbody>\n",
       "</table>\n",
       "</div>"
      ],
      "text/plain": [
       "                  coffee_shop_name  \\\n",
       "0  The Factory - Cafe With a Soul    \n",
       "1  The Factory - Cafe With a Soul    \n",
       "2  The Factory - Cafe With a Soul    \n",
       "3  The Factory - Cafe With a Soul    \n",
       "4  The Factory - Cafe With a Soul    \n",
       "\n",
       "                                    full_review_text        star_rating  \n",
       "0   11/25/2016 1 check-in Love love loved the atm...   5.0 star rating   \n",
       "1   12/2/2016 Listed in Date Night: Austin, Ambia...   4.0 star rating   \n",
       "2   11/30/2016 1 check-in Listed in Brunch Spots ...   4.0 star rating   \n",
       "3   11/25/2016 Very cool decor! Good drinks Nice ...   2.0 star rating   \n",
       "4   12/3/2016 1 check-in They are located within ...   4.0 star rating   "
      ]
     },
     "execution_count": 3,
     "metadata": {},
     "output_type": "execute_result"
    }
   ],
   "source": [
    "import pandas as pd\n",
    "\n",
    "url = \"https://raw.githubusercontent.com/LambdaSchool/DS-Unit-4-Sprint-1-NLP/main/module1-text-data/data/yelp_coffeeshop_review_data.csv\"\n",
    "\n",
    "shops = pd.read_csv(url)\n",
    "shops.head()"
   ]
  },
  {
   "cell_type": "code",
   "execution_count": 4,
   "metadata": {},
   "outputs": [],
   "source": [
    "# Start here \n",
    "\"\"\"\n",
    "Import Statements\n",
    "\"\"\"\n",
    "\n",
    "# Base\n",
    "from collections import Counter\n",
    "import re\n",
    " \n",
    "import pandas as pd\n",
    "\n",
    "# Plotting\n",
    "import squarify\n",
    "import matplotlib.pyplot as plt\n",
    "import seaborn as sns\n",
    "\n",
    "# NLP Libraries\n",
    "import spacy\n",
    "from spacy.tokenizer import Tokenizer\n",
    "from nltk.stem import PorterStemmer\n",
    "\n",
    "nlp = spacy.load(\"en_core_web_lg\")\n",
    "# Tokenizer\n",
    "tokenizer = Tokenizer(nlp.vocab)"
   ]
  },
  {
   "cell_type": "code",
   "execution_count": 5,
   "metadata": {},
   "outputs": [
    {
     "data": {
      "text/plain": [
       "(7616, 3)"
      ]
     },
     "execution_count": 5,
     "metadata": {},
     "output_type": "execute_result"
    }
   ],
   "source": [
    "shops.shape"
   ]
  },
  {
   "cell_type": "code",
   "execution_count": 6,
   "metadata": {},
   "outputs": [
    {
     "data": {
      "text/plain": [
       "dtype('O')"
      ]
     },
     "execution_count": 6,
     "metadata": {},
     "output_type": "execute_result"
    }
   ],
   "source": [
    "shops['full_review_text'].dtypes"
   ]
  },
  {
   "cell_type": "code",
   "execution_count": 7,
   "metadata": {},
   "outputs": [
    {
     "data": {
      "text/plain": [
       "0          checkin love love loved the atmosphere ever...\n",
       "1         listed in date night austin ambiance in aust...\n",
       "2          checkin listed in brunch spots i loved the ...\n",
       "3         very cool decor good drinks nice seating  ho...\n",
       "4          checkin they are located within the northcr...\n",
       "                              ...                        \n",
       "7611      i actually step into this restaurant by chan...\n",
       "7612      ok the steeping room is awesome how do they ...\n",
       "7613      loved coming here for tea and the atmosphere...\n",
       "7614      the food is just average the booths didnt fe...\n",
       "7615      i finally stopped in for lunch with my colle...\n",
       "Name: full_review_text_clean, Length: 7616, dtype: object"
      ]
     },
     "execution_count": 7,
     "metadata": {},
     "output_type": "execute_result"
    }
   ],
   "source": [
    "def clean(text):\n",
    "    text_updated = re.sub('[^\\s*a-zA-Z\\+]','', text)\n",
    "    text_updated = text_updated.lower()\n",
    "    return text_updated\n",
    "shops['full_review_text_clean'] = shops['full_review_text'].apply(clean)\n",
    "shops['full_review_text_clean']"
   ]
  },
  {
   "cell_type": "code",
   "execution_count": 8,
   "metadata": {},
   "outputs": [],
   "source": [
    "# This one is a very huge output so I comment it out.\n",
    "# shops['full_review_text_clean'].value_counts()[:50]"
   ]
  },
  {
   "cell_type": "code",
   "execution_count": 9,
   "metadata": {},
   "outputs": [
    {
     "data": {
      "text/plain": [
       "0       [love, loved, the, atmosphere, every, corner, ...\n",
       "1       [date, night, austin, ambiance, in, austin, be...\n",
       "2       [in, brunch, spots, i, loved, the, eclectic, a...\n",
       "3       [decor, good, drinks, nice, seating, however, ...\n",
       "4       [are, located, within, the, northcross, mall, ...\n",
       "                              ...                        \n",
       "7611    [step, into, this, restaurant, by, chance, and...\n",
       "7612    [steeping, room, is, awesome, how, do, they, h...\n",
       "7613    [here, for, tea, and, the, atmosphere, was, pr...\n",
       "7614    [is, just, average, the, booths, didnt, feel, ...\n",
       "7615    [stopped, in, for, lunch, with, my, colleague,...\n",
       "Name: tokens, Length: 7616, dtype: object"
      ]
     },
     "execution_count": 9,
     "metadata": {},
     "output_type": "execute_result"
    }
   ],
   "source": [
    "def tokenize(text):\n",
    "    \"\"\"Parses a string into a list of semantic units (words)\n",
    "\n",
    "    Args:\n",
    "        text (str): The string that the function will tokenize.\n",
    "\n",
    "    Returns:\n",
    "        list: tokens parsed out by the mechanics of your choice\n",
    "    \"\"\"\n",
    "    tokens = re.sub('[^a-zA-Z 0-9]', '', text)\n",
    "    # Split with whitespaces. Instead of string we get back a list.\n",
    "    tokens = tokens.lower().split()\n",
    "    tokens_popped = tokens.pop(0)\n",
    "    \n",
    "    return tokens\n",
    "\n",
    "shops['tokens'] = shops['full_review_text_clean'].apply(tokenize)\n",
    "shops['tokens'].head()\n",
    "\n",
    "for doc in shops['tokens']:\n",
    "    doc.pop(0)\n",
    "shops['tokens']"
   ]
  },
  {
   "cell_type": "code",
   "execution_count": 10,
   "metadata": {},
   "outputs": [
    {
     "data": {
      "text/plain": [
       "0       [   , checkin, love, love, loved, atmosphere, ...\n",
       "1       [  , listed, date, night, austin, ambiance, au...\n",
       "2       [   , checkin, listed, brunch, spots, loved, e...\n",
       "3       [  , cool, decor, good, drinks, nice, seating,...\n",
       "4       [   , checkin, located, northcross, mall, shop...\n",
       "                              ...                        \n",
       "7611    [  , actually, step, restaurant, chance, favor...\n",
       "7612    [  , ok, steeping, room, awesome, great, menu,...\n",
       "7613    [  , loved, coming, tea, atmosphere, pretty, f...\n",
       "7614    [  , food, average, booths, didnt, feel, clean...\n",
       "7615    [  , finally, stopped, lunch, colleague, im, g...\n",
       "Name: tokens, Length: 7616, dtype: object"
      ]
     },
     "execution_count": 10,
     "metadata": {},
     "output_type": "execute_result"
    }
   ],
   "source": [
    "tokens = []\n",
    "\n",
    "\"\"\" Update those tokens w/o stopwords\"\"\"\n",
    "for doc in tokenizer.pipe(shops['full_review_text_clean'], batch_size=500):\n",
    "    doc_tokens = []\n",
    "    \n",
    "    for token in doc:\n",
    "        if (token.is_stop == False) & (token.is_punct == False):\n",
    "            doc_tokens.append(token.text.lower())\n",
    "\n",
    "    tokens.append(doc_tokens)\n",
    "\n",
    "shops['tokens'] = tokens\n",
    "\n",
    "shops['tokens']"
   ]
  },
  {
   "cell_type": "code",
   "execution_count": 11,
   "metadata": {},
   "outputs": [
    {
     "data": {
      "text/plain": [
       "[(' ', 21778),\n",
       " ('coffee', 10351),\n",
       " ('  ', 5593),\n",
       " ('place', 5426),\n",
       " ('good', 3971),\n",
       " ('great', 3917),\n",
       " ('   ', 3482),\n",
       " ('like', 3088),\n",
       " ('austin', 2252),\n",
       " ('checkin', 1966)]"
      ]
     },
     "execution_count": 11,
     "metadata": {},
     "output_type": "execute_result"
    }
   ],
   "source": [
    "# Object from Base Python\n",
    "from collections import Counter\n",
    "\n",
    "# The object `Counter` takes an iterable, but you can instaniate an empty one and update it. \n",
    "word_counts = Counter()\n",
    "\n",
    "# Update it based on a split of each of our documents.\n",
    "# We are applying the counter to every element in the tokens column and updating it\n",
    "# every x is a list of tokens in every row.\n",
    "shops['tokens'].apply(lambda x: word_counts.update(x))\n",
    "\n",
    "# Print out the 10 most common words.\n",
    "word_counts.most_common(10)"
   ]
  },
  {
   "cell_type": "code",
   "execution_count": 12,
   "metadata": {},
   "outputs": [],
   "source": [
    "def star(text):\n",
    "    # split it with dot.\n",
    "    rating = text.split(\".\")[0]\n",
    "    # split it with zero. Instead of string we get back a list.\n",
    "    rating1 = rating.split(\"0\")[0]\n",
    "    return rating1"
   ]
  },
  {
   "cell_type": "code",
   "execution_count": 13,
   "metadata": {},
   "outputs": [
    {
     "data": {
      "text/plain": [
       "0       5\n",
       "1       4\n",
       "2       4\n",
       "3       2\n",
       "4       4\n",
       "       ..\n",
       "7611    4\n",
       "7612    5\n",
       "7613    4\n",
       "7614    3\n",
       "7615    4\n",
       "Name: star_rating_int, Length: 7616, dtype: int32"
      ]
     },
     "execution_count": 13,
     "metadata": {},
     "output_type": "execute_result"
    }
   ],
   "source": [
    "shops['star_rating'] = shops['star_rating'].apply(star)\n",
    "shops['star_rating_int'] = shops['star_rating'].astype(int)\n",
    "shops['star_rating_int']"
   ]
  },
  {
   "cell_type": "code",
   "execution_count": 14,
   "metadata": {},
   "outputs": [
    {
     "data": {
      "text/html": [
       "<div>\n",
       "<style scoped>\n",
       "    .dataframe tbody tr th:only-of-type {\n",
       "        vertical-align: middle;\n",
       "    }\n",
       "\n",
       "    .dataframe tbody tr th {\n",
       "        vertical-align: top;\n",
       "    }\n",
       "\n",
       "    .dataframe thead th {\n",
       "        text-align: right;\n",
       "    }\n",
       "</style>\n",
       "<table border=\"1\" class=\"dataframe\">\n",
       "  <thead>\n",
       "    <tr style=\"text-align: right;\">\n",
       "      <th></th>\n",
       "      <th>coffee_shop_name</th>\n",
       "      <th>full_review_text</th>\n",
       "      <th>star_rating</th>\n",
       "      <th>full_review_text_clean</th>\n",
       "      <th>tokens</th>\n",
       "      <th>star_rating_int</th>\n",
       "    </tr>\n",
       "  </thead>\n",
       "  <tbody>\n",
       "    <tr>\n",
       "      <th>0</th>\n",
       "      <td>The Factory - Cafe With a Soul</td>\n",
       "      <td>11/25/2016 1 check-in Love love loved the atm...</td>\n",
       "      <td>5</td>\n",
       "      <td>checkin love love loved the atmosphere ever...</td>\n",
       "      <td>[   , checkin, love, love, loved, atmosphere, ...</td>\n",
       "      <td>5</td>\n",
       "    </tr>\n",
       "    <tr>\n",
       "      <th>1</th>\n",
       "      <td>The Factory - Cafe With a Soul</td>\n",
       "      <td>12/2/2016 Listed in Date Night: Austin, Ambia...</td>\n",
       "      <td>4</td>\n",
       "      <td>listed in date night austin ambiance in aust...</td>\n",
       "      <td>[  , listed, date, night, austin, ambiance, au...</td>\n",
       "      <td>4</td>\n",
       "    </tr>\n",
       "    <tr>\n",
       "      <th>2</th>\n",
       "      <td>The Factory - Cafe With a Soul</td>\n",
       "      <td>11/30/2016 1 check-in Listed in Brunch Spots ...</td>\n",
       "      <td>4</td>\n",
       "      <td>checkin listed in brunch spots i loved the ...</td>\n",
       "      <td>[   , checkin, listed, brunch, spots, loved, e...</td>\n",
       "      <td>4</td>\n",
       "    </tr>\n",
       "    <tr>\n",
       "      <th>3</th>\n",
       "      <td>The Factory - Cafe With a Soul</td>\n",
       "      <td>11/25/2016 Very cool decor! Good drinks Nice ...</td>\n",
       "      <td>2</td>\n",
       "      <td>very cool decor good drinks nice seating  ho...</td>\n",
       "      <td>[  , cool, decor, good, drinks, nice, seating,...</td>\n",
       "      <td>2</td>\n",
       "    </tr>\n",
       "    <tr>\n",
       "      <th>4</th>\n",
       "      <td>The Factory - Cafe With a Soul</td>\n",
       "      <td>12/3/2016 1 check-in They are located within ...</td>\n",
       "      <td>4</td>\n",
       "      <td>checkin they are located within the northcr...</td>\n",
       "      <td>[   , checkin, located, northcross, mall, shop...</td>\n",
       "      <td>4</td>\n",
       "    </tr>\n",
       "  </tbody>\n",
       "</table>\n",
       "</div>"
      ],
      "text/plain": [
       "                  coffee_shop_name  \\\n",
       "0  The Factory - Cafe With a Soul    \n",
       "1  The Factory - Cafe With a Soul    \n",
       "2  The Factory - Cafe With a Soul    \n",
       "3  The Factory - Cafe With a Soul    \n",
       "4  The Factory - Cafe With a Soul    \n",
       "\n",
       "                                    full_review_text star_rating  \\\n",
       "0   11/25/2016 1 check-in Love love loved the atm...           5   \n",
       "1   12/2/2016 Listed in Date Night: Austin, Ambia...           4   \n",
       "2   11/30/2016 1 check-in Listed in Brunch Spots ...           4   \n",
       "3   11/25/2016 Very cool decor! Good drinks Nice ...           2   \n",
       "4   12/3/2016 1 check-in They are located within ...           4   \n",
       "\n",
       "                              full_review_text_clean  \\\n",
       "0     checkin love love loved the atmosphere ever...   \n",
       "1    listed in date night austin ambiance in aust...   \n",
       "2     checkin listed in brunch spots i loved the ...   \n",
       "3    very cool decor good drinks nice seating  ho...   \n",
       "4     checkin they are located within the northcr...   \n",
       "\n",
       "                                              tokens  star_rating_int  \n",
       "0  [   , checkin, love, love, loved, atmosphere, ...                5  \n",
       "1  [  , listed, date, night, austin, ambiance, au...                4  \n",
       "2  [   , checkin, listed, brunch, spots, loved, e...                4  \n",
       "3  [  , cool, decor, good, drinks, nice, seating,...                2  \n",
       "4  [   , checkin, located, northcross, mall, shop...                4  "
      ]
     },
     "execution_count": 14,
     "metadata": {},
     "output_type": "execute_result"
    }
   ],
   "source": [
    "shops.head()"
   ]
  },
  {
   "cell_type": "markdown",
   "metadata": {},
   "source": [
    "## How do we want to analyze these coffee shop tokens? \n",
    "\n",
    "- Overall Word / Token Count\n",
    "- View Counts by Rating \n",
    "- *Hint:* a 'bad' coffee shops has a rating betweeen 1 & 3 based on the distribution of ratings. A 'good' coffee shop is a 4 or 5. "
   ]
  },
  {
   "cell_type": "code",
   "execution_count": 15,
   "metadata": {},
   "outputs": [],
   "source": [
    "# Also a very big output.\n",
    "# word_counts"
   ]
  },
  {
   "cell_type": "code",
   "execution_count": 16,
   "metadata": {},
   "outputs": [],
   "source": [
    "def count(docs):\n",
    "\n",
    "        word_counts = Counter()\n",
    "        appears_in = Counter()\n",
    "        \n",
    "        total_docs = len(docs)\n",
    "\n",
    "        for doc in docs:\n",
    "            word_counts.update(doc)\n",
    "            appears_in.update(set(doc))\n",
    "\n",
    "        temp = zip(word_counts.keys(), word_counts.values())\n",
    "        \n",
    "        wc = pd.DataFrame(temp, columns = ['word', 'count'])\n",
    "\n",
    "        wc['rank'] = wc['count'].rank(method='first', ascending=False)\n",
    "        total = wc['count'].sum()\n",
    "\n",
    "        wc['pct_total'] = wc['count'].apply(lambda x: x / total)\n",
    "        \n",
    "        wc = wc.sort_values(by='rank')\n",
    "        wc['cul_pct_total'] = wc['pct_total'].cumsum()\n",
    "\n",
    "        t2 = zip(appears_in.keys(), appears_in.values())\n",
    "        ac = pd.DataFrame(t2, columns=['word', 'appears_in'])\n",
    "        wc = ac.merge(wc, on='word')\n",
    "\n",
    "        wc['appears_in_pct'] = wc['appears_in'].apply(lambda x: x / total_docs)\n",
    "        \n",
    "        return wc.sort_values(by='rank')"
   ]
  },
  {
   "cell_type": "code",
   "execution_count": 17,
   "metadata": {},
   "outputs": [
    {
     "data": {
      "text/html": [
       "<div>\n",
       "<style scoped>\n",
       "    .dataframe tbody tr th:only-of-type {\n",
       "        vertical-align: middle;\n",
       "    }\n",
       "\n",
       "    .dataframe tbody tr th {\n",
       "        vertical-align: top;\n",
       "    }\n",
       "\n",
       "    .dataframe thead th {\n",
       "        text-align: right;\n",
       "    }\n",
       "</style>\n",
       "<table border=\"1\" class=\"dataframe\">\n",
       "  <thead>\n",
       "    <tr style=\"text-align: right;\">\n",
       "      <th></th>\n",
       "      <th>word</th>\n",
       "      <th>appears_in</th>\n",
       "      <th>count</th>\n",
       "      <th>rank</th>\n",
       "      <th>pct_total</th>\n",
       "      <th>cul_pct_total</th>\n",
       "      <th>appears_in_pct</th>\n",
       "    </tr>\n",
       "  </thead>\n",
       "  <tbody>\n",
       "    <tr>\n",
       "      <th>17</th>\n",
       "      <td></td>\n",
       "      <td>5401</td>\n",
       "      <td>21778</td>\n",
       "      <td>1.0</td>\n",
       "      <td>0.055546</td>\n",
       "      <td>0.055546</td>\n",
       "      <td>0.709165</td>\n",
       "    </tr>\n",
       "    <tr>\n",
       "      <th>42</th>\n",
       "      <td>coffee</td>\n",
       "      <td>4877</td>\n",
       "      <td>10351</td>\n",
       "      <td>2.0</td>\n",
       "      <td>0.026401</td>\n",
       "      <td>0.081947</td>\n",
       "      <td>0.640362</td>\n",
       "    </tr>\n",
       "    <tr>\n",
       "      <th>58</th>\n",
       "      <td></td>\n",
       "      <td>5001</td>\n",
       "      <td>5593</td>\n",
       "      <td>3.0</td>\n",
       "      <td>0.014265</td>\n",
       "      <td>0.096212</td>\n",
       "      <td>0.656644</td>\n",
       "    </tr>\n",
       "    <tr>\n",
       "      <th>127</th>\n",
       "      <td>place</td>\n",
       "      <td>3659</td>\n",
       "      <td>5426</td>\n",
       "      <td>4.0</td>\n",
       "      <td>0.013839</td>\n",
       "      <td>0.110051</td>\n",
       "      <td>0.480436</td>\n",
       "    </tr>\n",
       "    <tr>\n",
       "      <th>155</th>\n",
       "      <td>good</td>\n",
       "      <td>2787</td>\n",
       "      <td>3971</td>\n",
       "      <td>5.0</td>\n",
       "      <td>0.010128</td>\n",
       "      <td>0.120179</td>\n",
       "      <td>0.365940</td>\n",
       "    </tr>\n",
       "  </tbody>\n",
       "</table>\n",
       "</div>"
      ],
      "text/plain": [
       "       word  appears_in  count  rank  pct_total  cul_pct_total  appears_in_pct\n",
       "17                 5401  21778   1.0   0.055546       0.055546        0.709165\n",
       "42   coffee        4877  10351   2.0   0.026401       0.081947        0.640362\n",
       "58                 5001   5593   3.0   0.014265       0.096212        0.656644\n",
       "127   place        3659   5426   4.0   0.013839       0.110051        0.480436\n",
       "155    good        2787   3971   5.0   0.010128       0.120179        0.365940"
      ]
     },
     "execution_count": 17,
     "metadata": {},
     "output_type": "execute_result"
    }
   ],
   "source": [
    "# Use the Function\n",
    "wc = count(shops['tokens'])\n",
    "wc.head()"
   ]
  },
  {
   "cell_type": "code",
   "execution_count": 18,
   "metadata": {},
   "outputs": [
    {
     "data": {
      "image/png": "[encoded data removed]",
      "text/plain": [
       "<Figure size 432x288 with 1 Axes>"
      ]
     },
     "metadata": {
      "needs_background": "light"
     },
     "output_type": "display_data"
    }
   ],
   "source": [
    "wc_top20 = wc[wc['rank'] <= 10]\n",
    "\n",
    "squarify.plot(sizes=wc_top20['pct_total'], label=wc_top20['word'], alpha=.8 )\n",
    "plt.axis('off')\n",
    "plt.show()"
   ]
  },
  {
   "cell_type": "code",
   "execution_count": 19,
   "metadata": {},
   "outputs": [
    {
     "data": {
      "text/plain": [
       "['coffee_shop_name',\n",
       " 'full_review_text',\n",
       " 'star_rating',\n",
       " 'full_review_text_clean',\n",
       " 'tokens',\n",
       " 'star_rating_int']"
      ]
     },
     "execution_count": 19,
     "metadata": {},
     "output_type": "execute_result"
    }
   ],
   "source": [
    "list(shops)"
   ]
  },
  {
   "cell_type": "markdown",
   "metadata": {},
   "source": [
    "## Can visualize the words with the greatest difference in counts between 'good' & 'bad'?\n",
    "\n",
    "Couple Notes: \n",
    "- Rel. freq. instead of absolute counts b/c of different numbers of reviews\n",
    "- Only look at the top 5-10 words with the greatest differences\n"
   ]
  },
  {
   "cell_type": "code",
   "execution_count": 20,
   "metadata": {},
   "outputs": [],
   "source": [
    "#split the Dataset by rating 4-5 stars and 1-3 stars\n",
    "shops_best = shops[shops['star_rating_int']>=4]\n",
    "shops_worst = shops[shops['star_rating_int'] < 4]"
   ]
  },
  {
   "cell_type": "code",
   "execution_count": 21,
   "metadata": {},
   "outputs": [
    {
     "data": {
      "text/plain": [
       "(6140, 6)"
      ]
     },
     "execution_count": 21,
     "metadata": {},
     "output_type": "execute_result"
    }
   ],
   "source": [
    "shops_best = shops_best.sort_values(by=['star_rating_int'], ascending=False)\n",
    "shops_best.shape"
   ]
  },
  {
   "cell_type": "code",
   "execution_count": 22,
   "metadata": {},
   "outputs": [
    {
     "data": {
      "text/plain": [
       "(1476, 6)"
      ]
     },
     "execution_count": 22,
     "metadata": {},
     "output_type": "execute_result"
    }
   ],
   "source": [
    "shops_worst = shops_worst.sort_values(by=['star_rating_int'], ascending=True)\n",
    "shops_worst.shape"
   ]
  },
  {
   "cell_type": "code",
   "execution_count": 23,
   "metadata": {},
   "outputs": [],
   "source": [
    "# Use the function for the best coffee shop.\n",
    "wc_best = count(shops_best['tokens'])"
   ]
  },
  {
   "cell_type": "code",
   "execution_count": 24,
   "metadata": {},
   "outputs": [],
   "source": [
    "# Use the function for the worst coffe shop.\n",
    "wc_worst = count(shops_worst['tokens'])"
   ]
  },
  {
   "cell_type": "code",
   "execution_count": 25,
   "metadata": {},
   "outputs": [
    {
     "data": {
      "image/png": "[encoded data removed]",
      "text/plain": [
       "<Figure size 432x288 with 1 Axes>"
      ]
     },
     "metadata": {
      "needs_background": "light"
     },
     "output_type": "display_data"
    }
   ],
   "source": [
    "wc_best = count(shops_best['tokens'])\n",
    "\n",
    "wc_top20_best = wc_best[wc_best['rank'] <= 20]\n",
    "\n",
    "squarify.plot(sizes=wc_top20_best['pct_total'], label=wc_top20_best['word'], alpha=.8 )\n",
    "plt.axis('off')\n",
    "plt.show()"
   ]
  },
  {
   "cell_type": "code",
   "execution_count": 26,
   "metadata": {},
   "outputs": [
    {
     "data": {
      "image/png": "[encoded data removed]",
      "text/plain": [
       "<Figure size 432x288 with 1 Axes>"
      ]
     },
     "metadata": {
      "needs_background": "light"
     },
     "output_type": "display_data"
    }
   ],
   "source": [
    "wc_worst = count(shops_best['tokens'])\n",
    "wc_top20_worst = wc_worst[wc_worst['rank'] <= 20]\n",
    "\n",
    "squarify.plot(sizes=wc_top20_worst['pct_total'], label=wc_top20_worst['word'], alpha=.8 )\n",
    "plt.axis('off')\n",
    "plt.show()"
   ]
  },
  {
   "cell_type": "code",
   "execution_count": 27,
   "metadata": {},
   "outputs": [],
   "source": [
    "#Extending list of STOP WORDS based on the plot.\n",
    "STOP_WORDS_BEST = nlp.Defaults.stop_words.union(['food', 'time', 'order', 'place', 'ive', 'im', 'checkin', '-.', 'austin!', 'check-ins', 'austin' ,'check-in', '', '1','it', ' ', '-', 'coffee', 'coffe', 'i', \"i'm\", \"i've\", \"it's\", 'it.', \"it'\", \"tri\", \"drink\"])"
   ]
  },
  {
   "cell_type": "code",
   "execution_count": 28,
   "metadata": {},
   "outputs": [],
   "source": [
    "#Extending list of STOP WORDS based on the plot.\n",
    "STOP_WORDS_WORST = nlp.Defaults.stop_words.union(['food', 'time', 'order', 'place', 'ive', 'im', 'checkin', '-.', 'austin!', 'check-ins', 'austin', 'check-in', '','1','it','-' ,' ','coffe','coffee', 'tast', 'i', \"i'm\", \"i've\", \"it's\", 'it.', \"it'\", 'tri', \"drink\"])"
   ]
  },
  {
   "cell_type": "code",
   "execution_count": 29,
   "metadata": {},
   "outputs": [
    {
     "data": {
      "text/plain": [
       "0       [   , love, love, loved, atmosphere, corner, s...\n",
       "4278    [  , love, free, wifi, indoor, outdoor, seatin...\n",
       "4291    [   , checkins, simply, feel, welcome, coffees...\n",
       "4289    [  , irie, bean, gem, atmosphere, decor, relax...\n",
       "4287    [   , love, great, spot, hang, good, chai, tea...\n",
       "                              ...                        \n",
       "1552    [  , best, americano, girlfriend, pour, delici...\n",
       "1549    [   , pretty, ambience, good, iced, chai, sad,...\n",
       "1547    [   , listed, organic, liked, figure, s, hipst...\n",
       "1532    [   , great, smooth, espresso, pour, light, fl...\n",
       "7615    [  , finally, stopped, lunch, colleague, glad,...\n",
       "Name: tokens, Length: 6140, dtype: object"
      ]
     },
     "execution_count": 29,
     "metadata": {},
     "output_type": "execute_result"
    }
   ],
   "source": [
    "#removing STOP WORDS from the extended list again - BEST COFFEE SHOP\n",
    "tokens1 = []\n",
    "\n",
    "for doc in tokenizer.pipe(shops_best['full_review_text_clean'], batch_size=500):\n",
    "    \n",
    "    doc_tokens1 = []\n",
    "    \n",
    "    for token in doc: \n",
    "        if token.text.lower() not in STOP_WORDS_BEST:\n",
    "            doc_tokens1.append(token.text.lower())\n",
    "   \n",
    "    tokens1.append(doc_tokens1)\n",
    "    \n",
    "shops_best['tokens'] = tokens1\n",
    "\n",
    "shops_best['tokens']"
   ]
  },
  {
   "cell_type": "code",
   "execution_count": 30,
   "metadata": {},
   "outputs": [
    {
     "data": {
      "text/plain": [
       "0          check-in love love loved the atmosphere! ev...\n",
       "1         listed in date night: austin, ambiance in au...\n",
       "2          check-in listed in brunch spots i loved the...\n",
       "3         very cool decor! good drinks nice seating  h...\n",
       "4          check-in they are located within the northc...\n",
       "                              ...                        \n",
       "7611      i actually step into this restaurant by chan...\n",
       "7612      ok, the steeping room is awesome. how do the...\n",
       "7613      loved coming here for tea, and the atmospher...\n",
       "7614      the food is just average. the booths didn't ...\n",
       "7615      i finally stopped in for lunch with my colle...\n",
       "Name: full_review_text_clean, Length: 7616, dtype: object"
      ]
     },
     "execution_count": 30,
     "metadata": {},
     "output_type": "execute_result"
    }
   ],
   "source": [
    "def clean(text):\n",
    "    text_updated = re.sub('[$/0-9]', '', text)\n",
    "    text_updated = text_updated.lower()\n",
    "    return text_updated\n",
    "\n",
    "# for doc in shops['tokens']:\n",
    "#     doc.pop(0)\n",
    "# shops['tokens']\n",
    "\n",
    "shops['full_review_text_clean'] = shops['full_review_text'].apply(clean)\n",
    "shops['full_review_text_clean']"
   ]
  },
  {
   "cell_type": "code",
   "execution_count": 31,
   "metadata": {},
   "outputs": [
    {
     "data": {
      "text/plain": [
       "5780    [  , bullshit, overhyped, paleo, pre, dry, bre...\n",
       "5945    [   , ounce, iced, absolutely, insane, charge,...\n",
       "5946    [  , normal, circumstances, id, given, stars, ...\n",
       "5962    [  , standards, super, low, fact, didnt, like,...\n",
       "5971    [  , horrible, slow, service, real, menu, item...\n",
       "                              ...                        \n",
       "5218    [   , toms, saved, pouring, rain, started, pou...\n",
       "2440    [   , stars, cute, spot, downtown, area, pick,...\n",
       "5247    [  , sunday, morning, breakfast, tacos, breakf...\n",
       "5175    [  , fun, little, shopping, combined, sipped, ...\n",
       "7614    [  , average, booths, didnt, feel, clean, wait...\n",
       "Name: tokens, Length: 1476, dtype: object"
      ]
     },
     "execution_count": 31,
     "metadata": {},
     "output_type": "execute_result"
    }
   ],
   "source": [
    "#removing STOP WORDS from the extended list again - WORST COFFEE SHOP\n",
    "tokens2 = []\n",
    "\n",
    "for doc in tokenizer.pipe(shops_worst['full_review_text_clean'], batch_size=500):\n",
    "    \n",
    "    doc_tokens2 = []\n",
    "    \n",
    "    for token in doc: \n",
    "        if token.text.lower() not in STOP_WORDS_WORST:\n",
    "            doc_tokens2.append(token.text.lower())\n",
    "   \n",
    "    tokens2.append(doc_tokens2)\n",
    "    \n",
    "shops_worst['tokens'] = tokens2\n",
    "\n",
    "shops_worst['tokens']"
   ]
  },
  {
   "cell_type": "code",
   "execution_count": 32,
   "metadata": {},
   "outputs": [
    {
     "data": {
      "text/html": [
       "<div>\n",
       "<style scoped>\n",
       "    .dataframe tbody tr th:only-of-type {\n",
       "        vertical-align: middle;\n",
       "    }\n",
       "\n",
       "    .dataframe tbody tr th {\n",
       "        vertical-align: top;\n",
       "    }\n",
       "\n",
       "    .dataframe thead th {\n",
       "        text-align: right;\n",
       "    }\n",
       "</style>\n",
       "<table border=\"1\" class=\"dataframe\">\n",
       "  <thead>\n",
       "    <tr style=\"text-align: right;\">\n",
       "      <th></th>\n",
       "      <th>word</th>\n",
       "      <th>appears_in</th>\n",
       "      <th>count</th>\n",
       "      <th>rank</th>\n",
       "      <th>pct_total</th>\n",
       "      <th>cul_pct_total</th>\n",
       "      <th>appears_in_pct</th>\n",
       "    </tr>\n",
       "  </thead>\n",
       "  <tbody>\n",
       "    <tr>\n",
       "      <th>53</th>\n",
       "      <td></td>\n",
       "      <td>3926</td>\n",
       "      <td>4341</td>\n",
       "      <td>1.0</td>\n",
       "      <td>0.016299</td>\n",
       "      <td>0.016299</td>\n",
       "      <td>0.639414</td>\n",
       "    </tr>\n",
       "    <tr>\n",
       "      <th>59</th>\n",
       "      <td>great</td>\n",
       "      <td>2490</td>\n",
       "      <td>3451</td>\n",
       "      <td>2.0</td>\n",
       "      <td>0.012958</td>\n",
       "      <td>0.029257</td>\n",
       "      <td>0.405537</td>\n",
       "    </tr>\n",
       "    <tr>\n",
       "      <th>115</th>\n",
       "      <td>good</td>\n",
       "      <td>2191</td>\n",
       "      <td>3095</td>\n",
       "      <td>3.0</td>\n",
       "      <td>0.011621</td>\n",
       "      <td>0.040878</td>\n",
       "      <td>0.356840</td>\n",
       "    </tr>\n",
       "    <tr>\n",
       "      <th>15</th>\n",
       "      <td></td>\n",
       "      <td>2610</td>\n",
       "      <td>2897</td>\n",
       "      <td>4.0</td>\n",
       "      <td>0.010878</td>\n",
       "      <td>0.051756</td>\n",
       "      <td>0.425081</td>\n",
       "    </tr>\n",
       "    <tr>\n",
       "      <th>78</th>\n",
       "      <td>like</td>\n",
       "      <td>1559</td>\n",
       "      <td>2212</td>\n",
       "      <td>5.0</td>\n",
       "      <td>0.008306</td>\n",
       "      <td>0.060061</td>\n",
       "      <td>0.253909</td>\n",
       "    </tr>\n",
       "  </tbody>\n",
       "</table>\n",
       "</div>"
      ],
      "text/plain": [
       "      word  appears_in  count  rank  pct_total  cul_pct_total  appears_in_pct\n",
       "53                3926   4341   1.0   0.016299       0.016299        0.639414\n",
       "59   great        2490   3451   2.0   0.012958       0.029257        0.405537\n",
       "115   good        2191   3095   3.0   0.011621       0.040878        0.356840\n",
       "15                2610   2897   4.0   0.010878       0.051756        0.425081\n",
       "78    like        1559   2212   5.0   0.008306       0.060061        0.253909"
      ]
     },
     "execution_count": 32,
     "metadata": {},
     "output_type": "execute_result"
    }
   ],
   "source": [
    "wc_best = count(shops_best['tokens'])\n",
    "wc_best.head()"
   ]
  },
  {
   "cell_type": "code",
   "execution_count": 33,
   "metadata": {},
   "outputs": [
    {
     "data": {
      "image/png": "[encoded data removed]",
      "text/plain": [
       "<Figure size 432x288 with 1 Axes>"
      ]
     },
     "metadata": {
      "needs_background": "light"
     },
     "output_type": "display_data"
    }
   ],
   "source": [
    "wc_top20_best = wc_best[wc_best['rank'] <= 20]\n",
    "squarify.plot(sizes=wc_top20_best['pct_total'], label=wc_top20_best['word'], alpha=.8 )\n",
    "plt.axis('off')\n",
    "plt.show()"
   ]
  },
  {
   "cell_type": "code",
   "execution_count": 34,
   "metadata": {},
   "outputs": [
    {
     "data": {
      "text/html": [
       "<div>\n",
       "<style scoped>\n",
       "    .dataframe tbody tr th:only-of-type {\n",
       "        vertical-align: middle;\n",
       "    }\n",
       "\n",
       "    .dataframe tbody tr th {\n",
       "        vertical-align: top;\n",
       "    }\n",
       "\n",
       "    .dataframe thead th {\n",
       "        text-align: right;\n",
       "    }\n",
       "</style>\n",
       "<table border=\"1\" class=\"dataframe\">\n",
       "  <thead>\n",
       "    <tr style=\"text-align: right;\">\n",
       "      <th></th>\n",
       "      <th>word</th>\n",
       "      <th>appears_in</th>\n",
       "      <th>count</th>\n",
       "      <th>rank</th>\n",
       "      <th>pct_total</th>\n",
       "      <th>cul_pct_total</th>\n",
       "      <th>appears_in_pct</th>\n",
       "    </tr>\n",
       "  </thead>\n",
       "  <tbody>\n",
       "    <tr>\n",
       "      <th>8</th>\n",
       "      <td></td>\n",
       "      <td>1075</td>\n",
       "      <td>1252</td>\n",
       "      <td>1.0</td>\n",
       "      <td>0.016708</td>\n",
       "      <td>0.016708</td>\n",
       "      <td>0.728320</td>\n",
       "    </tr>\n",
       "    <tr>\n",
       "      <th>86</th>\n",
       "      <td>like</td>\n",
       "      <td>565</td>\n",
       "      <td>876</td>\n",
       "      <td>2.0</td>\n",
       "      <td>0.011690</td>\n",
       "      <td>0.028399</td>\n",
       "      <td>0.382791</td>\n",
       "    </tr>\n",
       "    <tr>\n",
       "      <th>201</th>\n",
       "      <td>good</td>\n",
       "      <td>596</td>\n",
       "      <td>876</td>\n",
       "      <td>3.0</td>\n",
       "      <td>0.011690</td>\n",
       "      <td>0.040089</td>\n",
       "      <td>0.403794</td>\n",
       "    </tr>\n",
       "    <tr>\n",
       "      <th>21</th>\n",
       "      <td></td>\n",
       "      <td>511</td>\n",
       "      <td>585</td>\n",
       "      <td>4.0</td>\n",
       "      <td>0.007807</td>\n",
       "      <td>0.047896</td>\n",
       "      <td>0.346206</td>\n",
       "    </tr>\n",
       "    <tr>\n",
       "      <th>15</th>\n",
       "      <td>great</td>\n",
       "      <td>344</td>\n",
       "      <td>466</td>\n",
       "      <td>5.0</td>\n",
       "      <td>0.006219</td>\n",
       "      <td>0.054115</td>\n",
       "      <td>0.233062</td>\n",
       "    </tr>\n",
       "  </tbody>\n",
       "</table>\n",
       "</div>"
      ],
      "text/plain": [
       "      word  appears_in  count  rank  pct_total  cul_pct_total  appears_in_pct\n",
       "8                 1075   1252   1.0   0.016708       0.016708        0.728320\n",
       "86    like         565    876   2.0   0.011690       0.028399        0.382791\n",
       "201   good         596    876   3.0   0.011690       0.040089        0.403794\n",
       "21                 511    585   4.0   0.007807       0.047896        0.346206\n",
       "15   great         344    466   5.0   0.006219       0.054115        0.233062"
      ]
     },
     "execution_count": 34,
     "metadata": {},
     "output_type": "execute_result"
    }
   ],
   "source": [
    "wc_worst = count(shops_worst['tokens'])\n",
    "wc_worst.head()"
   ]
  },
  {
   "cell_type": "code",
   "execution_count": 35,
   "metadata": {},
   "outputs": [
    {
     "data": {
      "image/png": "[encoded data removed]",
      "text/plain": [
       "<Figure size 432x288 with 1 Axes>"
      ]
     },
     "metadata": {
      "needs_background": "light"
     },
     "output_type": "display_data"
    }
   ],
   "source": [
    "wc_top20_worst = wc_worst[wc_worst['rank'] <= 20]\n",
    "squarify.plot(sizes=wc_top20_worst['pct_total'], label=wc_top20_worst['word'], alpha=.8 )\n",
    "plt.axis('off')\n",
    "plt.show()"
   ]
  },
  {
   "cell_type": "code",
   "execution_count": 36,
   "metadata": {},
   "outputs": [
    {
     "data": {
      "text/html": [
       "<div>\n",
       "<style scoped>\n",
       "    .dataframe tbody tr th:only-of-type {\n",
       "        vertical-align: middle;\n",
       "    }\n",
       "\n",
       "    .dataframe tbody tr th {\n",
       "        vertical-align: top;\n",
       "    }\n",
       "\n",
       "    .dataframe thead th {\n",
       "        text-align: right;\n",
       "    }\n",
       "</style>\n",
       "<table border=\"1\" class=\"dataframe\">\n",
       "  <thead>\n",
       "    <tr style=\"text-align: right;\">\n",
       "      <th></th>\n",
       "      <th>coffee_shop_name</th>\n",
       "      <th>full_review_text</th>\n",
       "      <th>star_rating</th>\n",
       "      <th>full_review_text_clean</th>\n",
       "      <th>tokens</th>\n",
       "      <th>star_rating_int</th>\n",
       "      <th>stems</th>\n",
       "    </tr>\n",
       "  </thead>\n",
       "  <tbody>\n",
       "    <tr>\n",
       "      <th>0</th>\n",
       "      <td>The Factory - Cafe With a Soul</td>\n",
       "      <td>11/25/2016 1 check-in Love love loved the atm...</td>\n",
       "      <td>5</td>\n",
       "      <td>checkin love love loved the atmosphere ever...</td>\n",
       "      <td>[   , love, love, loved, atmosphere, corner, s...</td>\n",
       "      <td>5</td>\n",
       "      <td>[   , love, love, love, atmospher, corner, sho...</td>\n",
       "    </tr>\n",
       "    <tr>\n",
       "      <th>4278</th>\n",
       "      <td>Irie Bean Coffee Bar</td>\n",
       "      <td>8/14/2013 I love this place. The have free wi...</td>\n",
       "      <td>5</td>\n",
       "      <td>i love this place the have free wifi indoor ...</td>\n",
       "      <td>[  , love, free, wifi, indoor, outdoor, seatin...</td>\n",
       "      <td>5</td>\n",
       "      <td>[  , love, free, wifi, indoor, outdoor, seat, ...</td>\n",
       "    </tr>\n",
       "    <tr>\n",
       "      <th>4291</th>\n",
       "      <td>Irie Bean Coffee Bar</td>\n",
       "      <td>4/25/2012 5 check-ins Simply put, I feel welc...</td>\n",
       "      <td>5</td>\n",
       "      <td>checkins simply put i feel welcome here the...</td>\n",
       "      <td>[   , checkins, simply, feel, welcome, coffees...</td>\n",
       "      <td>5</td>\n",
       "      <td>[   , checkin, simpli, feel, welcom, coffe, gr...</td>\n",
       "    </tr>\n",
       "    <tr>\n",
       "      <th>4289</th>\n",
       "      <td>Irie Bean Coffee Bar</td>\n",
       "      <td>11/4/2010 The Irie Bean is a gem. The atmosph...</td>\n",
       "      <td>5</td>\n",
       "      <td>the irie bean is a gem the atmosphere and de...</td>\n",
       "      <td>[  , irie, bean, gem, atmosphere, decor, relax...</td>\n",
       "      <td>5</td>\n",
       "      <td>[  , iri, bean, gem, atmospher, decor, relax, ...</td>\n",
       "    </tr>\n",
       "    <tr>\n",
       "      <th>4287</th>\n",
       "      <td>Irie Bean Coffee Bar</td>\n",
       "      <td>4/3/2013 1 check-in I love this place.  It's ...</td>\n",
       "      <td>5</td>\n",
       "      <td>checkin i love this place  its such a great...</td>\n",
       "      <td>[   , love, great, spot, hang, good, chai, tea...</td>\n",
       "      <td>5</td>\n",
       "      <td>[   , love, great, spot, hang, good, chai, tea...</td>\n",
       "    </tr>\n",
       "  </tbody>\n",
       "</table>\n",
       "</div>"
      ],
      "text/plain": [
       "                     coffee_shop_name  \\\n",
       "0     The Factory - Cafe With a Soul    \n",
       "4278            Irie Bean Coffee Bar    \n",
       "4291            Irie Bean Coffee Bar    \n",
       "4289            Irie Bean Coffee Bar    \n",
       "4287            Irie Bean Coffee Bar    \n",
       "\n",
       "                                       full_review_text star_rating  \\\n",
       "0      11/25/2016 1 check-in Love love loved the atm...           5   \n",
       "4278   8/14/2013 I love this place. The have free wi...           5   \n",
       "4291   4/25/2012 5 check-ins Simply put, I feel welc...           5   \n",
       "4289   11/4/2010 The Irie Bean is a gem. The atmosph...           5   \n",
       "4287   4/3/2013 1 check-in I love this place.  It's ...           5   \n",
       "\n",
       "                                 full_review_text_clean  \\\n",
       "0        checkin love love loved the atmosphere ever...   \n",
       "4278    i love this place the have free wifi indoor ...   \n",
       "4291     checkins simply put i feel welcome here the...   \n",
       "4289    the irie bean is a gem the atmosphere and de...   \n",
       "4287     checkin i love this place  its such a great...   \n",
       "\n",
       "                                                 tokens  star_rating_int  \\\n",
       "0     [   , love, love, loved, atmosphere, corner, s...                5   \n",
       "4278  [  , love, free, wifi, indoor, outdoor, seatin...                5   \n",
       "4291  [   , checkins, simply, feel, welcome, coffees...                5   \n",
       "4289  [  , irie, bean, gem, atmosphere, decor, relax...                5   \n",
       "4287  [   , love, great, spot, hang, good, chai, tea...                5   \n",
       "\n",
       "                                                  stems  \n",
       "0     [   , love, love, love, atmospher, corner, sho...  \n",
       "4278  [  , love, free, wifi, indoor, outdoor, seat, ...  \n",
       "4291  [   , checkin, simpli, feel, welcom, coffe, gr...  \n",
       "4289  [  , iri, bean, gem, atmospher, decor, relax, ...  \n",
       "4287  [   , love, great, spot, hang, good, chai, tea...  "
      ]
     },
     "execution_count": 36,
     "metadata": {},
     "output_type": "execute_result"
    }
   ],
   "source": [
    "# BEST COFFEE SHOP STEMMER\n",
    "from nltk.stem import PorterStemmer\n",
    "\n",
    "ps = PorterStemmer()\n",
    "# Put in a new column `stems`\n",
    "shops_best['stems']=shops_best['tokens'].apply(lambda x: [ps.stem(token)for token in x])\n",
    "shops_best.head()"
   ]
  },
  {
   "cell_type": "code",
   "execution_count": 37,
   "metadata": {},
   "outputs": [
    {
     "data": {
      "text/html": [
       "<div>\n",
       "<style scoped>\n",
       "    .dataframe tbody tr th:only-of-type {\n",
       "        vertical-align: middle;\n",
       "    }\n",
       "\n",
       "    .dataframe tbody tr th {\n",
       "        vertical-align: top;\n",
       "    }\n",
       "\n",
       "    .dataframe thead th {\n",
       "        text-align: right;\n",
       "    }\n",
       "</style>\n",
       "<table border=\"1\" class=\"dataframe\">\n",
       "  <thead>\n",
       "    <tr style=\"text-align: right;\">\n",
       "      <th></th>\n",
       "      <th>coffee_shop_name</th>\n",
       "      <th>full_review_text</th>\n",
       "      <th>star_rating</th>\n",
       "      <th>full_review_text_clean</th>\n",
       "      <th>tokens</th>\n",
       "      <th>star_rating_int</th>\n",
       "      <th>stems</th>\n",
       "    </tr>\n",
       "  </thead>\n",
       "  <tbody>\n",
       "    <tr>\n",
       "      <th>5780</th>\n",
       "      <td>Picnik Austin</td>\n",
       "      <td>6/19/2016 Bullshit overhyped paleo 8$ coffee ...</td>\n",
       "      <td>1</td>\n",
       "      <td>bullshit overhyped paleo  coffee with pre ma...</td>\n",
       "      <td>[  , bullshit, overhyped, paleo, pre, dry, bre...</td>\n",
       "      <td>1</td>\n",
       "      <td>[  , bullshit, overhyp, paleo, pre, dri, break...</td>\n",
       "    </tr>\n",
       "    <tr>\n",
       "      <th>5945</th>\n",
       "      <td>Kick Butt Coffee Music &amp; Booze</td>\n",
       "      <td>7/17/2015 $4.75 for a 20 ounce iced coffee? T...</td>\n",
       "      <td>1</td>\n",
       "      <td>for a  ounce iced coffee this is absolutely...</td>\n",
       "      <td>[   , ounce, iced, absolutely, insane, charge,...</td>\n",
       "      <td>1</td>\n",
       "      <td>[   , ounc, ice, absolut, insan, charg, cup, w...</td>\n",
       "    </tr>\n",
       "    <tr>\n",
       "      <th>5946</th>\n",
       "      <td>Kick Butt Coffee Music &amp; Booze</td>\n",
       "      <td>5/6/2015 Under normal circumstances, I'd have...</td>\n",
       "      <td>1</td>\n",
       "      <td>under normal circumstances id have given thi...</td>\n",
       "      <td>[  , normal, circumstances, id, given, stars, ...</td>\n",
       "      <td>1</td>\n",
       "      <td>[  , normal, circumst, id, given, star, time, ...</td>\n",
       "    </tr>\n",
       "    <tr>\n",
       "      <th>5962</th>\n",
       "      <td>La Tazza Fresca</td>\n",
       "      <td>6/23/2016 My standards for coffee are super l...</td>\n",
       "      <td>1</td>\n",
       "      <td>my standards for coffee are super low so the...</td>\n",
       "      <td>[  , standards, super, low, fact, didnt, like,...</td>\n",
       "      <td>1</td>\n",
       "      <td>[  , standard, super, low, fact, didnt, like, ...</td>\n",
       "    </tr>\n",
       "    <tr>\n",
       "      <th>5971</th>\n",
       "      <td>La Tazza Fresca</td>\n",
       "      <td>8/28/2016 Horrible!! Slow service and no real...</td>\n",
       "      <td>1</td>\n",
       "      <td>horrible slow service and no real food menu ...</td>\n",
       "      <td>[  , horrible, slow, service, real, menu, item...</td>\n",
       "      <td>1</td>\n",
       "      <td>[  , horribl, slow, servic, real, menu, item, ...</td>\n",
       "    </tr>\n",
       "  </tbody>\n",
       "</table>\n",
       "</div>"
      ],
      "text/plain": [
       "                     coffee_shop_name  \\\n",
       "5780                   Picnik Austin    \n",
       "5945  Kick Butt Coffee Music & Booze    \n",
       "5946  Kick Butt Coffee Music & Booze    \n",
       "5962                 La Tazza Fresca    \n",
       "5971                 La Tazza Fresca    \n",
       "\n",
       "                                       full_review_text star_rating  \\\n",
       "5780   6/19/2016 Bullshit overhyped paleo 8$ coffee ...           1   \n",
       "5945   7/17/2015 $4.75 for a 20 ounce iced coffee? T...           1   \n",
       "5946   5/6/2015 Under normal circumstances, I'd have...           1   \n",
       "5962   6/23/2016 My standards for coffee are super l...           1   \n",
       "5971   8/28/2016 Horrible!! Slow service and no real...           1   \n",
       "\n",
       "                                 full_review_text_clean  \\\n",
       "5780    bullshit overhyped paleo  coffee with pre ma...   \n",
       "5945     for a  ounce iced coffee this is absolutely...   \n",
       "5946    under normal circumstances id have given thi...   \n",
       "5962    my standards for coffee are super low so the...   \n",
       "5971    horrible slow service and no real food menu ...   \n",
       "\n",
       "                                                 tokens  star_rating_int  \\\n",
       "5780  [  , bullshit, overhyped, paleo, pre, dry, bre...                1   \n",
       "5945  [   , ounce, iced, absolutely, insane, charge,...                1   \n",
       "5946  [  , normal, circumstances, id, given, stars, ...                1   \n",
       "5962  [  , standards, super, low, fact, didnt, like,...                1   \n",
       "5971  [  , horrible, slow, service, real, menu, item...                1   \n",
       "\n",
       "                                                  stems  \n",
       "5780  [  , bullshit, overhyp, paleo, pre, dri, break...  \n",
       "5945  [   , ounc, ice, absolut, insan, charg, cup, w...  \n",
       "5946  [  , normal, circumst, id, given, star, time, ...  \n",
       "5962  [  , standard, super, low, fact, didnt, like, ...  \n",
       "5971  [  , horribl, slow, servic, real, menu, item, ...  "
      ]
     },
     "execution_count": 37,
     "metadata": {},
     "output_type": "execute_result"
    }
   ],
   "source": [
    "# worst COFFEE SHOP STEMMER\n",
    "from nltk.stem import PorterStemmer\n",
    "\n",
    "ps = PorterStemmer()\n",
    "# Put in a new column `stems`\n",
    "shops_worst['stems']=shops_worst['tokens'].apply(lambda x: [ps.stem(token)for token in x])\n",
    "shops_worst.head()"
   ]
  },
  {
   "cell_type": "code",
   "execution_count": 38,
   "metadata": {},
   "outputs": [
    {
     "data": {
      "text/plain": [
       "0       [   , love, love, love, atmospher, corner, sho...\n",
       "4278    [  , love, free, wifi, indoor, outdoor, seat, ...\n",
       "4291    [   , checkin, simpli, feel, welcom, coffe, gr...\n",
       "4289    [  , iri, bean, gem, atmospher, decor, relax, ...\n",
       "4287    [   , love, great, spot, hang, good, chai, tea...\n",
       "                              ...                        \n",
       "1552      [  , best, americano, girlfriend, pour, delici]\n",
       "1549    [   , pretti, ambienc, good, ice, chai, sad, d...\n",
       "1547    [   , list, organ, like, figur, s, hipster, vi...\n",
       "1532    [   , great, smooth, espresso, pour, light, fl...\n",
       "7615    [  , final, stop, lunch, colleagu, glad, delic...\n",
       "Name: stems, Length: 6140, dtype: object"
      ]
     },
     "execution_count": 38,
     "metadata": {},
     "output_type": "execute_result"
    }
   ],
   "source": [
    "# Put in a new column `stems` - BEST COFFEE SHOP\n",
    "shops_best['stems']=shops_best['tokens'].apply(lambda x: [ps.stem(token)for token in x])\n",
    "shops_best['stems']"
   ]
  },
  {
   "cell_type": "code",
   "execution_count": 39,
   "metadata": {},
   "outputs": [
    {
     "data": {
      "text/plain": [
       "5780    [  , bullshit, overhyp, paleo, pre, dri, break...\n",
       "5945    [   , ounc, ice, absolut, insan, charg, cup, w...\n",
       "5946    [  , normal, circumst, id, given, star, time, ...\n",
       "5962    [  , standard, super, low, fact, didnt, like, ...\n",
       "5971    [  , horribl, slow, servic, real, menu, item, ...\n",
       "                              ...                        \n",
       "5218    [   , tom, save, pour, rain, start, pour, got,...\n",
       "2440    [   , star, cute, spot, downtown, area, pick, ...\n",
       "5247    [  , sunday, morn, breakfast, taco, breakfast,...\n",
       "5175    [  , fun, littl, shop, combin, sip, coffe, bro...\n",
       "7614    [  , averag, booth, didnt, feel, clean, waitst...\n",
       "Name: stems, Length: 1476, dtype: object"
      ]
     },
     "execution_count": 39,
     "metadata": {},
     "output_type": "execute_result"
    }
   ],
   "source": [
    "# Put in a new column `stems` - WORST COFFEE SHOP\n",
    "shops_worst['stems']=shops_worst['tokens'].apply(lambda x: [ps.stem(token)for token in x])\n",
    "shops_worst['stems']"
   ]
  },
  {
   "cell_type": "code",
   "execution_count": 40,
   "metadata": {},
   "outputs": [
    {
     "data": {
      "image/png": "[encoded data removed]",
      "text/plain": [
       "<Figure size 432x288 with 1 Axes>"
      ]
     },
     "metadata": {
      "needs_background": "light"
     },
     "output_type": "display_data"
    }
   ],
   "source": [
    "wc_best = count(shops_best['stems'])\n",
    "wc_top10_best = wc_best[wc_best['rank'] <= 10]\n",
    "squarify.plot(sizes=wc_top10_best['pct_total'], label=wc_top10_best['word'], alpha=.8 )\n",
    "plt.axis('off')\n",
    "plt.show()"
   ]
  },
  {
   "cell_type": "code",
   "execution_count": 41,
   "metadata": {},
   "outputs": [
    {
     "data": {
      "image/png": "[encoded data removed]",
      "text/plain": [
       "<Figure size 432x288 with 1 Axes>"
      ]
     },
     "metadata": {
      "needs_background": "light"
     },
     "output_type": "display_data"
    }
   ],
   "source": [
    "wc_worst = count(shops_worst['stems'])\n",
    "wc_top10_worst = wc_worst[wc_worst['rank'] <= 10]\n",
    "squarify.plot(sizes=wc_top10_worst['pct_total'], label=wc_top10_worst['word'], alpha=.8 )\n",
    "plt.axis('off')\n",
    "plt.show()"
   ]
  },
  {
   "cell_type": "code",
   "execution_count": 42,
   "metadata": {},
   "outputs": [],
   "source": [
    "# Wrap it all in a function\n",
    "def get_lemmas(text):\n",
    "\n",
    "    lemmas = []\n",
    "    \n",
    "    doc = nlp(text)\n",
    "    \n",
    "    # Something goes here :P\n",
    "    for token in doc: \n",
    "        if ((token.is_stop == False) and (token.is_punct == False)) and (token.pos_ != 'PRON'):\n",
    "            lemmas.append(token.lemma_)\n",
    "    \n",
    "    return lemmas"
   ]
  },
  {
   "cell_type": "code",
   "execution_count": 43,
   "metadata": {},
   "outputs": [
    {
     "name": "stderr",
     "output_type": "stream",
     "text": [
      "C:\\Users\\Toby\\anaconda3\\envs\\U4-S1-NLP\\lib\\site-packages\\tqdm\\std.py:668: FutureWarning: The Panel class is removed from pandas. Accessing it from the top-level namespace will also be removed in the next version\n",
      "  from pandas import Panel\n"
     ]
    }
   ],
   "source": [
    "from tqdm import tqdm \n",
    "tqdm.pandas()"
   ]
  },
  {
   "cell_type": "code",
   "execution_count": 44,
   "metadata": {},
   "outputs": [
    {
     "name": "stderr",
     "output_type": "stream",
     "text": [
      "100%|██████████| 6140/6140 [02:01<00:00, 50.42it/s]\n"
     ]
    }
   ],
   "source": [
    "shops_best['lemmas'] = shops_best['full_review_text_clean'].progress_apply(get_lemmas)"
   ]
  },
  {
   "cell_type": "code",
   "execution_count": 45,
   "metadata": {},
   "outputs": [
    {
     "name": "stderr",
     "output_type": "stream",
     "text": [
      "100%|██████████| 1476/1476 [00:31<00:00, 46.83it/s]\n"
     ]
    }
   ],
   "source": [
    "shops_worst['lemmas'] = shops_worst['full_review_text_clean'].progress_apply(get_lemmas)"
   ]
  },
  {
   "cell_type": "code",
   "execution_count": 46,
   "metadata": {},
   "outputs": [
    {
     "data": {
      "text/plain": [
       "0       [   , checkin, love, love, love, atmosphere, c...\n",
       "4278    [  , love, place, free, wifi, indoor, outdoor,...\n",
       "4291    [   , checkin, simply, feel, welcome, coffee, ...\n",
       "4289    [  , irie, bean, gem, atmosphere, decor, relax...\n",
       "4287    [   , checkin, love, place,  , great, spot, ha...\n",
       "Name: lemmas, dtype: object"
      ]
     },
     "execution_count": 46,
     "metadata": {},
     "output_type": "execute_result"
    }
   ],
   "source": [
    "shops_best['lemmas'].head()"
   ]
  },
  {
   "cell_type": "code",
   "execution_count": 47,
   "metadata": {},
   "outputs": [
    {
     "data": {
      "text/plain": [
       "5780    [  , bullshit, overhype, paleo,  , coffee, pre...\n",
       "5945    [   ,  , ounce, iced, coffee, absolutely, insa...\n",
       "5946    [  , normal, circumstance, would, give, place,...\n",
       "5962    [  , standard, coffee, super, low, fact, not, ...\n",
       "5971    [  , horrible, slow, service, real, food, menu...\n",
       "Name: lemmas, dtype: object"
      ]
     },
     "execution_count": 47,
     "metadata": {},
     "output_type": "execute_result"
    }
   ],
   "source": [
    "shops_worst['lemmas'].head()"
   ]
  },
  {
   "cell_type": "code",
   "execution_count": 48,
   "metadata": {},
   "outputs": [
    {
     "data": {
      "image/png": "[encoded data removed]",
      "text/plain": [
       "<Figure size 432x288 with 1 Axes>"
      ]
     },
     "metadata": {
      "needs_background": "light"
     },
     "output_type": "display_data"
    }
   ],
   "source": [
    "wc_best = count(shops_best['lemmas'])\n",
    "wc_top10_best = wc_best[wc_best['rank'] <= 10]\n",
    "squarify.plot(sizes=wc_top10_best['pct_total'], label=wc_top10_best['word'], alpha=.8 )\n",
    "plt.axis('off')\n",
    "plt.show()"
   ]
  },
  {
   "cell_type": "code",
   "execution_count": 49,
   "metadata": {},
   "outputs": [
    {
     "data": {
      "image/png": "[encoded data removed]",
      "text/plain": [
       "<Figure size 432x288 with 1 Axes>"
      ]
     },
     "metadata": {
      "needs_background": "light"
     },
     "output_type": "display_data"
    }
   ],
   "source": [
    "wc_worst = count(shops_worst['lemmas'])\n",
    "wc_top10_worst = wc_worst[wc_worst['rank'] <= 10]\n",
    "squarify.plot(sizes=wc_top10_worst['pct_total'], label=wc_top10_worst['word'], alpha=.8 )\n",
    "plt.axis('off')\n",
    "plt.show()"
   ]
  },
  {
   "cell_type": "markdown",
   "metadata": {
    "colab_type": "text",
    "id": "1dCb1q8XphcP",
    "toc-hr-collapsed": true
   },
   "source": [
    "## Stretch Goals\n",
    "\n",
    "* Analyze another corpus of documents - such as Indeed.com job listings ;).\n",
    "* Play with the Spacy API to\n",
    " - Extract Named Entities\n",
    " - Extracting 'noun chunks'\n",
    " - Attempt Document Classification with just Spacy\n",
    " - *Note:* This [course](https://course.spacy.io/) will be of interesting in helping you with these stretch goals. \n",
    "* Try to build a plotly dash app with your text data \n",
    "\n"
   ]
  }
 ],
 "metadata": {
  "colab": {
   "collapsed_sections": [],
   "name": "LS_DS_421_Text_Data_Assignment.ipynb",
   "provenance": [],
   "version": "0.3.2"
  },
  "kernelspec": {
   "display_name": "U4-S1-NLP (Python3)",
   "language": "python",
   "name": "u4-s1-nlp"
  },
  "language_info": {
   "codemirror_mode": {
    "name": "ipython",
    "version": 3
   },
   "file_extension": ".py",
   "mimetype": "text/x-python",
   "name": "python",
   "nbconvert_exporter": "python",
   "pygments_lexer": "ipython3",
   "version": "3.7.0"
  },
  "toc-autonumbering": false
 },
 "nbformat": 4,
 "nbformat_minor": 4
}
